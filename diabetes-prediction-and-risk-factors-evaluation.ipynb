{
 "cells": [
  {
   "cell_type": "code",
   "execution_count": null,
   "metadata": {},
   "outputs": [],
   "source": []
  }
 ],
 "metadata": {
  "kernelspec": {
   "display_name": "base",
   "language": "python",
   "name": "python3"
  },
  "language_info": {
   "name": "python",
   "version": "3.8.8"
  },
  "orig_nbformat": 4,
  "vscode": {
   "interpreter": {
    "hash": "561ea24f65c0869ed07d66a5f48d8e3eb02a87289bc61d04d3754064220ebec9"
   }
  }
 },
 "nbformat": 4,
 "nbformat_minor": 2
}
